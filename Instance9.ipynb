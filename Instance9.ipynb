{
  "nbformat": 4,
  "nbformat_minor": 0,
  "metadata": {
    "colab": {
      "provenance": [],
      "include_colab_link": true
    },
    "kernelspec": {
      "name": "python3",
      "display_name": "Python 3"
    },
    "language_info": {
      "name": "python"
    }
  },
  "cells": [
    {
      "cell_type": "markdown",
      "metadata": {
        "id": "view-in-github",
        "colab_type": "text"
      },
      "source": [
        "<a href=\"https://colab.research.google.com/github/anaisidoro/ASOCIO-2025---POwer-Girls/blob/main/Instance9.ipynb\" target=\"_parent\"><img src=\"https://colab.research.google.com/assets/colab-badge.svg\" alt=\"Open In Colab\"/></a>"
      ]
    },
    {
      "cell_type": "code",
      "execution_count": null,
      "metadata": {
        "colab": {
          "base_uri": "https://localhost:8080/"
        },
        "id": "XLH8Lz0LgDht",
        "outputId": "73baaba8-2014-427a-feae-8b58162a9f41"
      },
      "outputs": [
        {
          "output_type": "stream",
          "name": "stdout",
          "text": [
            "Collecting pulp\n",
            "  Downloading pulp-3.2.1-py3-none-any.whl.metadata (6.9 kB)\n",
            "Downloading pulp-3.2.1-py3-none-any.whl (16.4 MB)\n",
            "\u001b[2K   \u001b[90m━━━━━━━━━━━━━━━━━━━━━━━━━━━━━━━━━━━━━━━━\u001b[0m \u001b[32m16.4/16.4 MB\u001b[0m \u001b[31m77.5 MB/s\u001b[0m eta \u001b[36m0:00:00\u001b[0m\n",
            "\u001b[?25hInstalling collected packages: pulp\n",
            "Successfully installed pulp-3.2.1\n"
          ]
        }
      ],
      "source": [
        "import json\n",
        "!pip install pulp\n",
        "from pulp import *\n",
        "import time\n",
        "# --- INÍCIO DA MEDIÇÃO ---\n",
        "start_time = time.time()"
      ]
    },
    {
      "cell_type": "code",
      "source": [
        "#Input data\n",
        "with open('/content/instance9.json') as f:\n",
        "    instance = json.load(f)\n",
        "\n",
        "#Sets and parameters\n",
        "days = [\"L\", \"Ma\", \"Mi\", \"J\", \"V\"]\n",
        "employee = instance['Employees']\n",
        "desks = instance['Desks']\n",
        "zones = instance['Zones']\n",
        "desks_per_zone = instance['Desks_Z']\n",
        "desks_per_employee = instance['Desks_E']\n",
        "employee_per_group = instance['Employees_G']\n",
        "preferable_days = instance['Days_E']\n",
        "weight = 5\n",
        "groups = [g for g in employee_per_group]\n",
        "\n",
        "#Update weight matrix\n",
        "weights = [[1 for _ in employee] for _ in days]\n",
        "for e in employee:\n",
        "    for i in range(len(preferable_days[e])):\n",
        "        day_index = days.index(preferable_days[e][i])\n",
        "        weights[day_index][employee.index(e)]=weight\n",
        "\n",
        "#Identify the employees that can use each desk\n",
        "employee_per_desk = {}\n",
        "for desk_id in desks:\n",
        "    employees_in_desk = []\n",
        "    for e in employee:\n",
        "        possible_desks = desks_per_employee[e]\n",
        "        for m in possible_desks:\n",
        "            if m == desk_id:\n",
        "                employees_in_desk.append(e)\n",
        "    employee_per_desk[desk_id]=employees_in_desk"
      ],
      "metadata": {
        "id": "uGzzxtlsgTlA"
      },
      "execution_count": null,
      "outputs": []
    },
    {
      "cell_type": "code",
      "source": [
        "#Problem Initialization\n",
        "assignment = LpProblem(\"StudentChallenge\", LpMaximize)\n",
        "\n",
        "#Decision Variables\n",
        "x = LpVariable.dicts(\"x\", [(d,e,k) for d in days for e in employee for k in desks if e in employee_per_desk[k]], cat = \"Binary\")\n",
        "u = LpVariable.dicts(\"u\", [(d,g) for d in days for g in groups], cat = \"Binary\")\n",
        "\n",
        "#Objective Function\n",
        "assignment += lpSum([weights[days.index(d)][employee.index(e)]*x[d,e, k] for d in days for e in employee for k in desks if e in employee_per_desk[k]])\n",
        "\n",
        "#Constraint 1 = Each employee must stay at the office at least twice a week\n",
        "for e in employee:\n",
        "    assignment += lpSum([x[d,e,k] for d in days for k in desks if e in employee_per_desk[k]]) >= 2\n",
        "\n",
        "#Constraint 2 = Each desk must be occupied by at most one specific employees at each day\n",
        "for k in desks:\n",
        "    for d in days:\n",
        "        assignment += lpSum([x[d,e,k] for e in employee_per_desk[k]]) <= 1\n",
        "\n",
        "#Constraint 3 - Each employee must be assigned at most once a day\n",
        "for d in days:\n",
        "    for e in employee:\n",
        "        assignment += lpSum([x[d,e,k] for k in desks if e in employee_per_desk[k]]) <= 1\n",
        "\n",
        "#Constraint 4 - Each desk must be assigned at most once a day\n",
        "for k in desks:\n",
        "    for d in days:\n",
        "        assignment += lpSum([x[d,e,k] for e in employee if e in employee_per_desk[k]]) <= 1\n",
        "\n",
        "\n",
        "#Constraint 5 = Employees should not be isolated in a zone\n",
        "for d in days:\n",
        "    for z in zones:\n",
        "        for g in groups:\n",
        "            for m in employee_per_group[g]:\n",
        "                assignment += lpSum([x[d,m,k] for k in desks_per_employee[m] if k in desks_per_zone[z]]) <= lpSum([x[d,e,k] for e in employee_per_group[g] if e!=m for k in desks_per_employee[e] if k in desks_per_zone[z]])\n",
        "\n",
        "\n",
        "#Constraint 6 = Each group should have one meeting per week\n",
        "for g in groups:\n",
        "    assignment += lpSum([u[d,g] for d in days]) >= 1\n",
        "\n",
        "#Constraint 7 = All the members of a group should be present once a week\n",
        "for d in days:\n",
        "    for g in groups:\n",
        "        employees_group = employee_per_group[g]\n",
        "        assignment += lpSum([x[d,e,k] for e in employees_group for k in desks if e in employee_per_desk[k]]) >= len(employees_group)*u[d,g]"
      ],
      "metadata": {
        "id": "Aj8M_1tbgYFB"
      },
      "execution_count": null,
      "outputs": []
    },
    {
      "cell_type": "code",
      "source": [
        "#Solving the model\n",
        "solve_the_model = assignment.solve()\n",
        "print(f\"Status do problema: {LpStatus[solve_the_model]}\")\n",
        "\n",
        "#Print variables\n",
        "for var in assignment.variables():\n",
        "    if var.varValue > 0:\n",
        "        print(f\"{var.name}={var.varValue}\")\n",
        "\n",
        "#Print objective function value\n",
        "print(f\"Total Happiness: {value(assignment.objective)}\")"
      ],
      "metadata": {
        "id": "BI0V18nhLUYf"
      },
      "execution_count": null,
      "outputs": []
    },
    {
      "cell_type": "code",
      "source": [
        "#Print results organized per day\n",
        "for d in days:\n",
        "    print(f\"-------------------Day: {d}----------------------\")\n",
        "    for k in desks:\n",
        "        for e in employee:\n",
        "            if e in employee_per_desk[k]:\n",
        "                if x[d, e, k].value() == 1:\n",
        "                    print(f\"Desk: {k}, employee:{e}\")\n",
        "    for g in groups:\n",
        "        if u[d, g].value() == 1:\n",
        "            group_employees = employee_per_group[g]\n",
        "            print(f\"Meeting of the day: Group {g} - {group_employees}\")"
      ],
      "metadata": {
        "id": "ROdt8RjiLZiL"
      },
      "execution_count": null,
      "outputs": []
    },
    {
      "cell_type": "code",
      "source": [
        "# --- FIM DA MEDIÇÃO ---\n",
        "end_time = time.time()\n",
        "\n",
        "# Calcula o tempo total decorrido\n",
        "time_taken = end_time - start_time\n",
        "\n",
        "# Imprime o tempo de execução formatado\n",
        "print(f\"\\n--- Tempo de Execução do Código ---\")\n",
        "print(f\"O processo completo levou {time_taken:.4f} segundos para ser executado.\")\n",
        "print(f\"-----------------------------------\")"
      ],
      "metadata": {
        "id": "sEjB1qvVOJea"
      },
      "execution_count": null,
      "outputs": []
    }
  ]
}