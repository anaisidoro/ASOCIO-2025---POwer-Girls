{
  "nbformat": 4,
  "nbformat_minor": 0,
  "metadata": {
    "colab": {
      "provenance": [],
      "include_colab_link": true
    },
    "kernelspec": {
      "name": "python3",
      "display_name": "Python 3"
    },
    "language_info": {
      "name": "python"
    }
  },
  "cells": [
    {
      "cell_type": "markdown",
      "metadata": {
        "id": "view-in-github",
        "colab_type": "text"
      },
      "source": [
        "<a href=\"https://colab.research.google.com/github/anaisidoro/ASOCIO-2025---POwer-Girls/blob/main/Instance1.ipynb\" target=\"_parent\"><img src=\"https://colab.research.google.com/assets/colab-badge.svg\" alt=\"Open In Colab\"/></a>"
      ]
    },
    {
      "cell_type": "code",
      "source": [
        "import json\n",
        "!pip install pulp\n",
        "from pulp import *\n",
        "import time\n",
        "# --- INÍCIO DA MEDIÇÃO ---\n",
        "start_time = time.time()"
      ],
      "metadata": {
        "colab": {
          "base_uri": "https://localhost:8080/"
        },
        "id": "EYPThuizKn9c",
        "outputId": "607ce6f7-2442-4eba-a8cb-53288c31ffa1"
      },
      "execution_count": null,
      "outputs": [
        {
          "output_type": "stream",
          "name": "stdout",
          "text": [
            "Requirement already satisfied: pulp in /usr/local/lib/python3.11/dist-packages (3.2.1)\n"
          ]
        }
      ]
    },
    {
      "cell_type": "code",
      "source": [
        "#Input data\n",
        "with open('/content/instance1.json') as f:\n",
        "    instance = json.load(f)\n",
        "\n",
        "#Sets and parameters\n",
        "days = [\"L\", \"Ma\", \"Mi\", \"J\", \"V\"]\n",
        "employee = instance['Employees']\n",
        "desks = instance['Desks']\n",
        "zones = instance['Zones']\n",
        "desks_per_zone = instance['Desks_Z']\n",
        "desks_per_employee = instance['Desks_E']\n",
        "employee_per_group = instance['Employees_G']\n",
        "preferable_days = instance['Days_E']\n",
        "weight = 5\n",
        "groups = [g for g in employee_per_group]\n",
        "\n",
        "#Update weight matrix\n",
        "weights = [[1 for _ in employee] for _ in days]\n",
        "for e in employee:\n",
        "    for i in range(len(preferable_days[e])):\n",
        "        day_index = days.index(preferable_days[e][i])\n",
        "        weights[day_index][employee.index(e)]=weight\n",
        "\n",
        "#Identify the employees that can use each desk\n",
        "employee_per_desk = {}\n",
        "for desk_id in desks:\n",
        "    employees_in_desk = []\n",
        "    for e in employee:\n",
        "        possible_desks = desks_per_employee[e]\n",
        "        for m in possible_desks:\n",
        "            if m == desk_id:\n",
        "                employees_in_desk.append(e)\n",
        "    employee_per_desk[desk_id]=employees_in_desk"
      ],
      "metadata": {
        "id": "1ZYgzgmnLDbh"
      },
      "execution_count": null,
      "outputs": []
    },
    {
      "cell_type": "code",
      "source": [
        "#Problem Initialization\n",
        "assignment = LpProblem(\"StudentChallenge\", LpMaximize)\n",
        "\n",
        "#Decision Variables\n",
        "x = LpVariable.dicts(\"x\", [(d,e,k) for d in days for e in employee for k in desks if e in employee_per_desk[k]], cat = \"Binary\")\n",
        "u = LpVariable.dicts(\"u\", [(d,g) for d in days for g in groups], cat = \"Binary\")\n",
        "\n",
        "#Objective Function\n",
        "assignment += lpSum([weights[days.index(d)][employee.index(e)]*x[d,e, k] for d in days for e in employee for k in desks if e in employee_per_desk[k]])\n",
        "\n",
        "#Constraint 1 = Each employee must stay at the office at least twice a week\n",
        "for e in employee:\n",
        "    assignment += lpSum([x[d,e,k] for d in days for k in desks if e in employee_per_desk[k]]) >= 2\n",
        "\n",
        "#Constraint 2 = Each desk must be occupied by at most one specific employees at each day\n",
        "for k in desks:\n",
        "    for d in days:\n",
        "        assignment += lpSum([x[d,e,k] for e in employee_per_desk[k]]) <= 1\n",
        "\n",
        "#Constraint 3 - Each employee must be assigned at most once a day\n",
        "for d in days:\n",
        "    for e in employee:\n",
        "        assignment += lpSum([x[d,e,k] for k in desks if e in employee_per_desk[k]]) <= 1\n",
        "\n",
        "#Constraint 4 - Each desk must be assigned at most once a day\n",
        "for k in desks:\n",
        "    for d in days:\n",
        "        assignment += lpSum([x[d,e,k] for e in employee if e in employee_per_desk[k]]) <= 1\n",
        "\n",
        "\n",
        "#Constraint 5 = Employees should not be isolated in a zone\n",
        "for d in days:\n",
        "    for z in zones:\n",
        "        for g in groups:\n",
        "            for m in employee_per_group[g]:\n",
        "                assignment += lpSum([x[d,m,k] for k in desks_per_employee[m] if k in desks_per_zone[z]]) <= lpSum([x[d,e,k] for e in employee_per_group[g] if e!=m for k in desks_per_employee[e] if k in desks_per_zone[z]])\n",
        "\n",
        "\n",
        "#Constraint 6 = Each group should have one meeting per week\n",
        "for g in groups:\n",
        "    assignment += lpSum([u[d,g] for d in days]) >= 1\n",
        "\n",
        "#Constraint 7 = All the members of a group should be present once a week\n",
        "for d in days:\n",
        "    for g in groups:\n",
        "        employees_group = employee_per_group[g]\n",
        "        assignment += lpSum([x[d,e,k] for e in employees_group for k in desks if e in employee_per_desk[k]]) >= len(employees_group)*u[d,g]"
      ],
      "metadata": {
        "id": "g95c5Y3MLMdA"
      },
      "execution_count": null,
      "outputs": []
    },
    {
      "cell_type": "code",
      "source": [
        "#Solving the model\n",
        "solve_the_model = assignment.solve(PULP_CBC_CMD(timeLimit=100, keepFiles=True))\n",
        "print(f\"Status do problema: {LpStatus[solve_the_model]}\")\n",
        "\n",
        "#Print variables\n",
        "for var in assignment.variables():\n",
        "    if var.varValue > 0:\n",
        "        print(f\"{var.name}={var.varValue}\")\n",
        "\n",
        "#Print objective function value\n",
        "print(f\"Total Happiness: {value(assignment.objective)}\")"
      ],
      "metadata": {
        "colab": {
          "base_uri": "https://localhost:8080/"
        },
        "id": "BI0V18nhLUYf",
        "outputId": "bc2023c4-eacb-437b-c63f-d7ee30a55bed"
      },
      "execution_count": null,
      "outputs": [
        {
          "output_type": "stream",
          "name": "stdout",
          "text": [
            "Status do problema: Optimal\n",
            "u_('J',_'G1')=1.0\n",
            "u_('L',_'G2')=1.0\n",
            "u_('Mi',_'G0')=1.0\n",
            "u_('V',_'G3')=1.0\n",
            "x_('J',_'E11',_'D0')=1.0\n",
            "x_('J',_'E12',_'D2')=1.0\n",
            "x_('J',_'E18',_'D5')=1.0\n",
            "x_('J',_'E19',_'D6')=1.0\n",
            "x_('J',_'E5',_'D7')=1.0\n",
            "x_('J',_'E6',_'D4')=1.0\n",
            "x_('J',_'E7',_'D3')=1.0\n",
            "x_('J',_'E8',_'D1')=1.0\n",
            "x_('J',_'E9',_'D8')=1.0\n",
            "x_('L',_'E10',_'D7')=1.0\n",
            "x_('L',_'E11',_'D0')=1.0\n",
            "x_('L',_'E12',_'D2')=1.0\n",
            "x_('L',_'E13',_'D5')=1.0\n",
            "x_('L',_'E14',_'D3')=1.0\n",
            "x_('L',_'E16',_'D4')=1.0\n",
            "x_('L',_'E17',_'D1')=1.0\n",
            "x_('L',_'E2',_'D8')=1.0\n",
            "x_('L',_'E3',_'D6')=1.0\n",
            "x_('Ma',_'E0',_'D2')=1.0\n",
            "x_('Ma',_'E1',_'D4')=1.0\n",
            "x_('Ma',_'E10',_'D1')=1.0\n",
            "x_('Ma',_'E14',_'D3')=1.0\n",
            "x_('Ma',_'E17',_'D5')=1.0\n",
            "x_('Ma',_'E18',_'D8')=1.0\n",
            "x_('Ma',_'E4',_'D0')=1.0\n",
            "x_('Ma',_'E5',_'D7')=1.0\n",
            "x_('Ma',_'E9',_'D6')=1.0\n",
            "x_('Mi',_'E0',_'D7')=1.0\n",
            "x_('Mi',_'E1',_'D4')=1.0\n",
            "x_('Mi',_'E15',_'D5')=1.0\n",
            "x_('Mi',_'E18',_'D8')=1.0\n",
            "x_('Mi',_'E2',_'D3')=1.0\n",
            "x_('Mi',_'E3',_'D6')=1.0\n",
            "x_('Mi',_'E4',_'D0')=1.0\n",
            "x_('Mi',_'E6',_'D1')=1.0\n",
            "x_('Mi',_'E9',_'D2')=1.0\n",
            "x_('V',_'E11',_'D6')=1.0\n",
            "x_('V',_'E13',_'D7')=1.0\n",
            "x_('V',_'E15',_'D5')=1.0\n",
            "x_('V',_'E16',_'D8')=1.0\n",
            "x_('V',_'E17',_'D2')=1.0\n",
            "x_('V',_'E18',_'D0')=1.0\n",
            "x_('V',_'E19',_'D3')=1.0\n",
            "x_('V',_'E7',_'D1')=1.0\n",
            "x_('V',_'E8',_'D4')=1.0\n",
            "Total Happiness: 193.0\n"
          ]
        }
      ]
    },
    {
      "cell_type": "code",
      "source": [
        "#Print results organized per day\n",
        "for d in days:\n",
        "    print(f\"-------------------Day: {d}----------------------\")\n",
        "    for k in desks:\n",
        "        for e in employee:\n",
        "            if e in employee_per_desk[k]:\n",
        "                if x[d, e, k].value() == 1:\n",
        "                    print(f\"Desk: {k}, employee:{e}\")\n",
        "    for g in groups:\n",
        "        if u[d, g].value() == 1:\n",
        "            group_employees = employee_per_group[g]\n",
        "            print(f\"Meeting of the day: Group {g} - {group_employees}\")"
      ],
      "metadata": {
        "colab": {
          "base_uri": "https://localhost:8080/"
        },
        "id": "ROdt8RjiLZiL",
        "outputId": "3dda322c-c2a4-4b31-fb91-04fa2a38a56d"
      },
      "execution_count": null,
      "outputs": [
        {
          "output_type": "stream",
          "name": "stdout",
          "text": [
            "-------------------Day: L----------------------\n",
            "Desk: D0, employee:E11\n",
            "Desk: D1, employee:E17\n",
            "Desk: D2, employee:E12\n",
            "Desk: D3, employee:E14\n",
            "Desk: D4, employee:E16\n",
            "Desk: D5, employee:E13\n",
            "Desk: D6, employee:E3\n",
            "Desk: D7, employee:E10\n",
            "Desk: D8, employee:E2\n",
            "Meeting of the day: Group G2 - ['E10', 'E11', 'E12', 'E13', 'E14']\n",
            "-------------------Day: Ma----------------------\n",
            "Desk: D0, employee:E4\n",
            "Desk: D1, employee:E10\n",
            "Desk: D2, employee:E0\n",
            "Desk: D3, employee:E14\n",
            "Desk: D4, employee:E1\n",
            "Desk: D5, employee:E17\n",
            "Desk: D6, employee:E9\n",
            "Desk: D7, employee:E5\n",
            "Desk: D8, employee:E18\n",
            "-------------------Day: Mi----------------------\n",
            "Desk: D0, employee:E4\n",
            "Desk: D1, employee:E6\n",
            "Desk: D2, employee:E9\n",
            "Desk: D3, employee:E2\n",
            "Desk: D4, employee:E1\n",
            "Desk: D5, employee:E15\n",
            "Desk: D6, employee:E3\n",
            "Desk: D7, employee:E0\n",
            "Desk: D8, employee:E18\n",
            "Meeting of the day: Group G0 - ['E0', 'E1', 'E2', 'E3', 'E4']\n",
            "-------------------Day: J----------------------\n",
            "Desk: D0, employee:E11\n",
            "Desk: D1, employee:E8\n",
            "Desk: D2, employee:E12\n",
            "Desk: D3, employee:E7\n",
            "Desk: D4, employee:E6\n",
            "Desk: D5, employee:E18\n",
            "Desk: D6, employee:E19\n",
            "Desk: D7, employee:E5\n",
            "Desk: D8, employee:E9\n",
            "Meeting of the day: Group G1 - ['E5', 'E6', 'E7', 'E8', 'E9']\n",
            "-------------------Day: V----------------------\n",
            "Desk: D0, employee:E18\n",
            "Desk: D1, employee:E7\n",
            "Desk: D2, employee:E17\n",
            "Desk: D3, employee:E19\n",
            "Desk: D4, employee:E8\n",
            "Desk: D5, employee:E15\n",
            "Desk: D6, employee:E11\n",
            "Desk: D7, employee:E13\n",
            "Desk: D8, employee:E16\n",
            "Meeting of the day: Group G3 - ['E15', 'E16', 'E17', 'E18', 'E19']\n"
          ]
        }
      ]
    },
    {
      "cell_type": "code",
      "source": [
        "# --- FIM DA MEDIÇÃO ---\n",
        "end_time = time.time()\n",
        "\n",
        "# Calcula o tempo total decorrido\n",
        "time_taken = end_time - start_time\n",
        "\n",
        "# Imprime o tempo de execução formatado\n",
        "print(f\"\\n--- Tempo de Execução do Código ---\")\n",
        "print(f\"O processo completo levou {time_taken:.4f} segundos para ser executado.\")\n",
        "print(f\"-----------------------------------\")"
      ],
      "metadata": {
        "colab": {
          "base_uri": "https://localhost:8080/"
        },
        "id": "sEjB1qvVOJea",
        "outputId": "5a04bcc2-f001-4135-ac21-7e190db7b6d3"
      },
      "execution_count": null,
      "outputs": [
        {
          "output_type": "stream",
          "name": "stdout",
          "text": [
            "\n",
            "--- Tempo de Execução do Código ---\n",
            "O processo completo levou 38.3927 segundos para ser executado.\n",
            "-----------------------------------\n"
          ]
        }
      ]
    }
  ]
}